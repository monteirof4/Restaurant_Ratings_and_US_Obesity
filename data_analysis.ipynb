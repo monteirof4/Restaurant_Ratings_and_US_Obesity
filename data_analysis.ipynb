{
 "cells": [
  {
   "cell_type": "markdown",
   "metadata": {},
   "source": [
    "# Restaurant Ratings x US Obesity"
   ]
  },
  {
   "cell_type": "code",
   "execution_count": 1,
   "metadata": {},
   "outputs": [],
   "source": [
    "# Import Dependencies\n",
    "import matplotlib.pyplot as plt\n",
    "import pandas as pd\n",
    "import numpy as np\n",
    "import os\n",
    "\n",
    "# Import stats for ttest analysis\n",
    "import scipy.stats as stats"
   ]
  },
  {
   "cell_type": "code",
   "execution_count": 2,
   "metadata": {},
   "outputs": [],
   "source": [
    "# Verify library versions if some error occurs\n",
    "\n",
    "#pd.__version__ # Pandas version: 0.23.4\n",
    "#np.__version__ # Numpy version: 1.15.4\n",
    "#import matplotlib as mat\n",
    "#mat.__version__ # Matplotlib version: 3.0.2"
   ]
  },
  {
   "cell_type": "markdown",
   "metadata": {},
   "source": [
    "## Obesity Data Analysis"
   ]
  },
  {
   "cell_type": "code",
   "execution_count": 3,
   "metadata": {},
   "outputs": [
    {
     "data": {
      "text/html": [
       "<div>\n",
       "<style scoped>\n",
       "    .dataframe tbody tr th:only-of-type {\n",
       "        vertical-align: middle;\n",
       "    }\n",
       "\n",
       "    .dataframe tbody tr th {\n",
       "        vertical-align: top;\n",
       "    }\n",
       "\n",
       "    .dataframe thead th {\n",
       "        text-align: right;\n",
       "    }\n",
       "</style>\n",
       "<table border=\"1\" class=\"dataframe\">\n",
       "  <thead>\n",
       "    <tr style=\"text-align: right;\">\n",
       "      <th></th>\n",
       "      <th>Year</th>\n",
       "      <th>Location</th>\n",
       "      <th>Obesity Percentage</th>\n",
       "    </tr>\n",
       "  </thead>\n",
       "  <tbody>\n",
       "    <tr>\n",
       "      <th>0</th>\n",
       "      <td>2011</td>\n",
       "      <td>US</td>\n",
       "      <td>27.4</td>\n",
       "    </tr>\n",
       "    <tr>\n",
       "      <th>1</th>\n",
       "      <td>2012</td>\n",
       "      <td>US</td>\n",
       "      <td>27.7</td>\n",
       "    </tr>\n",
       "    <tr>\n",
       "      <th>2</th>\n",
       "      <td>2013</td>\n",
       "      <td>US</td>\n",
       "      <td>28.3</td>\n",
       "    </tr>\n",
       "    <tr>\n",
       "      <th>3</th>\n",
       "      <td>2014</td>\n",
       "      <td>US</td>\n",
       "      <td>28.9</td>\n",
       "    </tr>\n",
       "    <tr>\n",
       "      <th>4</th>\n",
       "      <td>2015</td>\n",
       "      <td>US</td>\n",
       "      <td>28.9</td>\n",
       "    </tr>\n",
       "    <tr>\n",
       "      <th>5</th>\n",
       "      <td>2016</td>\n",
       "      <td>US</td>\n",
       "      <td>29.6</td>\n",
       "    </tr>\n",
       "    <tr>\n",
       "      <th>6</th>\n",
       "      <td>2017</td>\n",
       "      <td>US</td>\n",
       "      <td>30.1</td>\n",
       "    </tr>\n",
       "  </tbody>\n",
       "</table>\n",
       "</div>"
      ],
      "text/plain": [
       "   Year Location  Obesity Percentage\n",
       "0  2011       US                27.4\n",
       "1  2012       US                27.7\n",
       "2  2013       US                28.3\n",
       "3  2014       US                28.9\n",
       "4  2015       US                28.9\n",
       "5  2016       US                29.6\n",
       "6  2017       US                30.1"
      ]
     },
     "execution_count": 3,
     "metadata": {},
     "output_type": "execute_result"
    }
   ],
   "source": [
    "# Read in df_us csv\n",
    "input_file = os.path.join('data','df_us.csv')\n",
    "df_us = pd.read_csv(input_file)\n",
    "\n",
    "# Display the Data\n",
    "df_us"
   ]
  },
  {
   "cell_type": "code",
   "execution_count": 4,
   "metadata": {},
   "outputs": [
    {
     "data": {
      "text/html": [
       "<div>\n",
       "<style scoped>\n",
       "    .dataframe tbody tr th:only-of-type {\n",
       "        vertical-align: middle;\n",
       "    }\n",
       "\n",
       "    .dataframe tbody tr th {\n",
       "        vertical-align: top;\n",
       "    }\n",
       "\n",
       "    .dataframe thead th {\n",
       "        text-align: right;\n",
       "    }\n",
       "</style>\n",
       "<table border=\"1\" class=\"dataframe\">\n",
       "  <thead>\n",
       "    <tr style=\"text-align: right;\">\n",
       "      <th></th>\n",
       "      <th>Year</th>\n",
       "      <th>Location</th>\n",
       "      <th>Age Bin</th>\n",
       "      <th>Obesity Percentage</th>\n",
       "    </tr>\n",
       "  </thead>\n",
       "  <tbody>\n",
       "    <tr>\n",
       "      <th>0</th>\n",
       "      <td>2017</td>\n",
       "      <td>US</td>\n",
       "      <td>18 - 24</td>\n",
       "      <td>16.5</td>\n",
       "    </tr>\n",
       "    <tr>\n",
       "      <th>1</th>\n",
       "      <td>2017</td>\n",
       "      <td>US</td>\n",
       "      <td>35 - 44</td>\n",
       "      <td>33.0</td>\n",
       "    </tr>\n",
       "    <tr>\n",
       "      <th>2</th>\n",
       "      <td>2017</td>\n",
       "      <td>US</td>\n",
       "      <td>55 - 64</td>\n",
       "      <td>35.4</td>\n",
       "    </tr>\n",
       "  </tbody>\n",
       "</table>\n",
       "</div>"
      ],
      "text/plain": [
       "   Year Location  Age Bin  Obesity Percentage\n",
       "0  2017       US  18 - 24                16.5\n",
       "1  2017       US  35 - 44                33.0\n",
       "2  2017       US  55 - 64                35.4"
      ]
     },
     "execution_count": 4,
     "metadata": {},
     "output_type": "execute_result"
    }
   ],
   "source": [
    "# Read in df_ageyr_us csv\n",
    "input_file = os.path.join('data','df_ageyr_us.csv')\n",
    "df_ageyr_us = pd.read_csv(input_file)\n",
    "\n",
    "# Display the Data\n",
    "df_ageyr_us.head()"
   ]
  },
  {
   "cell_type": "markdown",
   "metadata": {},
   "source": [
    "### Plot US Obesity Data: Overall and by Age"
   ]
  },
  {
   "cell_type": "code",
   "execution_count": 5,
   "metadata": {},
   "outputs": [
    {
     "data": {
      "image/png": "[encoded data removed]",
      "text/plain": [
       "<Figure size 1152x360 with 2 Axes>"
      ]
     },
     "metadata": {
      "needs_background": "light"
     },
     "output_type": "display_data"
    }
   ],
   "source": [
    "# Create subplot figure\n",
    "fig, ax = plt.subplots(1, 2, figsize = (16,5))\n",
    "\n",
    "# Plot data for US\n",
    "df_us.plot(x = \"Year\", y = \"Obesity Percentage\", ax = ax[0], marker = \">\", legend = None)\n",
    "df_ageyr_us.plot(kind = 'bar', x = \"Age Bin\", y = \"Obesity Percentage\", ax = ax[1], legend = None)\n",
    "\n",
    "# Insert labels\n",
    "ax[0].set_title(\"US Obesity Percentages from 2011 to 2017\", size = 13, weight = 'bold')\n",
    "ax[0].set_xlabel(\"Years\", labelpad=10, size = 12,  weight = 'bold')\n",
    "ax[0].set_ylabel(\"Obesity Percentages\", labelpad=10, size = 12, weight = 'bold')\n",
    "\n",
    "ax[1].set_title(\"US 2017 Obesity Percentages by Age\", size = 13, weight = 'bold')\n",
    "ax[1].set_xlabel(\"Years\", labelpad=10, size = 12,  weight = 'bold')\n",
    "ax[1].set_xticklabels(df_ageyr_us[\"Age Bin\"], rotation = 0)\n",
    "ax[1].set_ylabel(\"Obesity Percentages\", labelpad=10, size = 12, weight = 'bold')\n",
    "\n",
    "# Save Figures\n",
    "figure_path = os.path.join('images','US_Obesity_Percentages')\n",
    "plt.savefig(figure_path)\n",
    "\n",
    "plt.show()"
   ]
  },
  {
   "cell_type": "code",
   "execution_count": 6,
   "metadata": {},
   "outputs": [
    {
     "data": {
      "text/html": [
       "<div>\n",
       "<style scoped>\n",
       "    .dataframe tbody tr th:only-of-type {\n",
       "        vertical-align: middle;\n",
       "    }\n",
       "\n",
       "    .dataframe tbody tr th {\n",
       "        vertical-align: top;\n",
       "    }\n",
       "\n",
       "    .dataframe thead th {\n",
       "        text-align: right;\n",
       "    }\n",
       "</style>\n",
       "<table border=\"1\" class=\"dataframe\">\n",
       "  <thead>\n",
       "    <tr style=\"text-align: right;\">\n",
       "      <th></th>\n",
       "      <th>Year</th>\n",
       "      <th>Location</th>\n",
       "      <th>Obesity Percentage</th>\n",
       "    </tr>\n",
       "  </thead>\n",
       "  <tbody>\n",
       "    <tr>\n",
       "      <th>0</th>\n",
       "      <td>2017</td>\n",
       "      <td>WV</td>\n",
       "      <td>38.1</td>\n",
       "    </tr>\n",
       "    <tr>\n",
       "      <th>1</th>\n",
       "      <td>2017</td>\n",
       "      <td>MS</td>\n",
       "      <td>37.3</td>\n",
       "    </tr>\n",
       "    <tr>\n",
       "      <th>2</th>\n",
       "      <td>2017</td>\n",
       "      <td>OK</td>\n",
       "      <td>36.5</td>\n",
       "    </tr>\n",
       "    <tr>\n",
       "      <th>3</th>\n",
       "      <td>2017</td>\n",
       "      <td>IA</td>\n",
       "      <td>36.4</td>\n",
       "    </tr>\n",
       "    <tr>\n",
       "      <th>4</th>\n",
       "      <td>2017</td>\n",
       "      <td>AL</td>\n",
       "      <td>36.3</td>\n",
       "    </tr>\n",
       "  </tbody>\n",
       "</table>\n",
       "</div>"
      ],
      "text/plain": [
       "   Year Location  Obesity Percentage\n",
       "0  2017       WV                38.1\n",
       "1  2017       MS                37.3\n",
       "2  2017       OK                36.5\n",
       "3  2017       IA                36.4\n",
       "4  2017       AL                36.3"
      ]
     },
     "execution_count": 6,
     "metadata": {},
     "output_type": "execute_result"
    }
   ],
   "source": [
    "# Read in df_states_2017 csv\n",
    "input_file = os.path.join('data','df_states_2017.csv')\n",
    "df_states_2017 = pd.read_csv(input_file)\n",
    "\n",
    "# Display the Data\n",
    "df_states_2017.head()"
   ]
  },
  {
   "cell_type": "markdown",
   "metadata": {},
   "source": [
    "### Plot obesity states rank: first 5 and last 5"
   ]
  },
  {
   "cell_type": "code",
   "execution_count": 7,
   "metadata": {},
   "outputs": [
    {
     "name": "stderr",
     "output_type": "stream",
     "text": [
      "/anaconda3/envs/PythonData/lib/python3.7/site-packages/matplotlib/cbook/__init__.py:424: MatplotlibDeprecationWarning: \n",
      "Passing one of 'on', 'true', 'off', 'false' as a boolean is deprecated; use an actual boolean (True/False) instead.\n",
      "  warn_deprecated(\"2.2\", \"Passing one of 'on', 'true', 'off', 'false' as a \"\n"
     ]
    },
    {
     "data": {
      "image/png": "[encoded data removed]",
      "text/plain": [
       "<Figure size 1152x360 with 2 Axes>"
      ]
     },
     "metadata": {
      "needs_background": "light"
     },
     "output_type": "display_data"
    }
   ],
   "source": [
    "# Group dataframes\n",
    "df_top5_states = df_states_2017.head().groupby('Location').sum()\n",
    "df_top5_states = df_top5_states['Obesity Percentage'].sort_values()\n",
    "\n",
    "df_bottom5_states = df_states_2017.tail().groupby('Location').sum()\n",
    "df_bottom5_states = df_bottom5_states['Obesity Percentage'].sort_values()\n",
    "\n",
    "# Create figure\n",
    "fig, ax = plt.subplots(1,2, figsize= (16,5))\n",
    "\n",
    "df_top5_states.plot(kind='barh', ax = ax[0], color='#86bf91', zorder=2, width=0.85)\n",
    "df_bottom5_states.plot(kind='barh', ax = ax[1], color='#86bf91', zorder=2, width=0.85)\n",
    "\n",
    "# Set Title\n",
    "ax[0].set_title('Top 5 Obese States', weight = 'bold', size = 15, loc = 'center')\n",
    "ax[1].set_title('Bottom 5 Obese States', weight = 'bold', size = 15, loc = 'center')\n",
    "\n",
    "# Loop through subplots to put labels\n",
    "for i in range(len(ax)):\n",
    "\n",
    "    # Remove plotting borders\n",
    "    ax[i].spines['right'].set_visible(False)\n",
    "    ax[i].spines['top'].set_visible(False)\n",
    "    ax[i].spines['left'].set_visible(False)\n",
    "    ax[i].spines['bottom'].set_visible(False)\n",
    "\n",
    "    # Switch off ticks\n",
    "    ax[i].tick_params(axis=\"both\", which=\"both\", bottom=\"off\", top=\"off\", labelbottom=\"on\", left=\"off\", right=\"off\", labelleft=\"on\")\n",
    "\n",
    "    # Draw vertical axis lines\n",
    "    vals = ax[i].get_xticks()\n",
    "    for tick in vals:\n",
    "        ax[i].axvline(x=tick, linestyle='dashed', alpha=0.4, color='#eeeeee', zorder=1)\n",
    "\n",
    "    # Set x-axis label\n",
    "    ax[i].set_xlabel(\"Obesity Percentages\", labelpad=10, weight='bold', size=12)\n",
    "\n",
    "    # Set y-axis label\n",
    "    ax[i].set_ylabel(\"States\", labelpad=10, weight='bold', size=12)\n",
    "\n",
    "# Set values on right of the bars\n",
    "[ax[0].text(v, j, '{:.2f}%'.format(v)) for j, v in enumerate(df_top5_states)]\n",
    "[ax[1].text(v, j, '{:.2f}%'.format(v)) for j, v in enumerate(df_bottom5_states)]\n",
    " \n",
    "# Save Figures\n",
    "figure_path = os.path.join('images','US_Obesity_Rankings')\n",
    "plt.savefig(figure_path)\n",
    "    \n",
    "plt.show()"
   ]
  },
  {
   "cell_type": "markdown",
   "metadata": {},
   "source": [
    "## Restaurant Ratings Data Analysis"
   ]
  },
  {
   "cell_type": "code",
   "execution_count": 8,
   "metadata": {},
   "outputs": [
    {
     "data": {
      "text/html": [
       "<div>\n",
       "<style scoped>\n",
       "    .dataframe tbody tr th:only-of-type {\n",
       "        vertical-align: middle;\n",
       "    }\n",
       "\n",
       "    .dataframe tbody tr th {\n",
       "        vertical-align: top;\n",
       "    }\n",
       "\n",
       "    .dataframe thead th {\n",
       "        text-align: right;\n",
       "    }\n",
       "</style>\n",
       "<table border=\"1\" class=\"dataframe\">\n",
       "  <thead>\n",
       "    <tr style=\"text-align: right;\">\n",
       "      <th></th>\n",
       "      <th>Year</th>\n",
       "      <th>Location</th>\n",
       "      <th>Obesity Percentage</th>\n",
       "      <th>Rating Average</th>\n",
       "    </tr>\n",
       "  </thead>\n",
       "  <tbody>\n",
       "    <tr>\n",
       "      <th>0</th>\n",
       "      <td>2017</td>\n",
       "      <td>WV</td>\n",
       "      <td>38.1</td>\n",
       "      <td>3.08750</td>\n",
       "    </tr>\n",
       "    <tr>\n",
       "      <th>1</th>\n",
       "      <td>2017</td>\n",
       "      <td>MS</td>\n",
       "      <td>37.3</td>\n",
       "      <td>2.91875</td>\n",
       "    </tr>\n",
       "    <tr>\n",
       "      <th>2</th>\n",
       "      <td>2017</td>\n",
       "      <td>OK</td>\n",
       "      <td>36.5</td>\n",
       "      <td>2.20625</td>\n",
       "    </tr>\n",
       "    <tr>\n",
       "      <th>3</th>\n",
       "      <td>2017</td>\n",
       "      <td>IA</td>\n",
       "      <td>36.4</td>\n",
       "      <td>3.01250</td>\n",
       "    </tr>\n",
       "    <tr>\n",
       "      <th>4</th>\n",
       "      <td>2017</td>\n",
       "      <td>AL</td>\n",
       "      <td>36.3</td>\n",
       "      <td>2.11875</td>\n",
       "    </tr>\n",
       "  </tbody>\n",
       "</table>\n",
       "</div>"
      ],
      "text/plain": [
       "   Year Location  Obesity Percentage  Rating Average\n",
       "0  2017       WV                38.1         3.08750\n",
       "1  2017       MS                37.3         2.91875\n",
       "2  2017       OK                36.5         2.20625\n",
       "3  2017       IA                36.4         3.01250\n",
       "4  2017       AL                36.3         2.11875"
      ]
     },
     "execution_count": 8,
     "metadata": {},
     "output_type": "execute_result"
    }
   ],
   "source": [
    "# Read in state_unhealthy csv\n",
    "input_file = os.path.join('data','state_unhealthy.csv')\n",
    "state_unhealthy = pd.read_csv(input_file)\n",
    "\n",
    "# Display the Data\n",
    "state_unhealthy.head()"
   ]
  },
  {
   "cell_type": "code",
   "execution_count": 9,
   "metadata": {},
   "outputs": [
    {
     "data": {
      "text/html": [
       "<div>\n",
       "<style scoped>\n",
       "    .dataframe tbody tr th:only-of-type {\n",
       "        vertical-align: middle;\n",
       "    }\n",
       "\n",
       "    .dataframe tbody tr th {\n",
       "        vertical-align: top;\n",
       "    }\n",
       "\n",
       "    .dataframe thead th {\n",
       "        text-align: right;\n",
       "    }\n",
       "</style>\n",
       "<table border=\"1\" class=\"dataframe\">\n",
       "  <thead>\n",
       "    <tr style=\"text-align: right;\">\n",
       "      <th></th>\n",
       "      <th>Year</th>\n",
       "      <th>Location</th>\n",
       "      <th>Obesity Percentage</th>\n",
       "      <th>Rating Average</th>\n",
       "    </tr>\n",
       "  </thead>\n",
       "  <tbody>\n",
       "    <tr>\n",
       "      <th>0</th>\n",
       "      <td>2017</td>\n",
       "      <td>WV</td>\n",
       "      <td>38.1</td>\n",
       "      <td>3.525000</td>\n",
       "    </tr>\n",
       "    <tr>\n",
       "      <th>1</th>\n",
       "      <td>2017</td>\n",
       "      <td>MS</td>\n",
       "      <td>37.3</td>\n",
       "      <td>3.170732</td>\n",
       "    </tr>\n",
       "    <tr>\n",
       "      <th>2</th>\n",
       "      <td>2017</td>\n",
       "      <td>OK</td>\n",
       "      <td>36.5</td>\n",
       "      <td>3.600000</td>\n",
       "    </tr>\n",
       "    <tr>\n",
       "      <th>3</th>\n",
       "      <td>2017</td>\n",
       "      <td>IA</td>\n",
       "      <td>36.4</td>\n",
       "      <td>3.595745</td>\n",
       "    </tr>\n",
       "    <tr>\n",
       "      <th>4</th>\n",
       "      <td>2017</td>\n",
       "      <td>AL</td>\n",
       "      <td>36.3</td>\n",
       "      <td>3.534091</td>\n",
       "    </tr>\n",
       "  </tbody>\n",
       "</table>\n",
       "</div>"
      ],
      "text/plain": [
       "   Year Location  Obesity Percentage  Rating Average\n",
       "0  2017       WV                38.1        3.525000\n",
       "1  2017       MS                37.3        3.170732\n",
       "2  2017       OK                36.5        3.600000\n",
       "3  2017       IA                36.4        3.595745\n",
       "4  2017       AL                36.3        3.534091"
      ]
     },
     "execution_count": 9,
     "metadata": {},
     "output_type": "execute_result"
    }
   ],
   "source": [
    "# Read in state_healthy csv\n",
    "input_file = os.path.join('data','state_healthy.csv')\n",
    "state_healthy = pd.read_csv(input_file)\n",
    "\n",
    "# Display the Data\n",
    "state_healthy.head()"
   ]
  },
  {
   "cell_type": "code",
   "execution_count": 10,
   "metadata": {},
   "outputs": [
    {
     "data": {
      "image/png": "[encoded data removed]",
      "text/plain": [
       "<Figure size 1152x360 with 2 Axes>"
      ]
     },
     "metadata": {
      "needs_background": "light"
     },
     "output_type": "display_data"
    }
   ],
   "source": [
    "# Scatter plots\n",
    "fig, ax = plt.subplots(1,2, figsize= (16,5), sharey = True)\n",
    "\n",
    "state_unhealthy.plot(kind='scatter', x = 'Obesity Percentage', y = 'Rating Average', ax = ax[0])\n",
    "state_healthy.plot(kind='scatter', x = 'Obesity Percentage', y = 'Rating Average', ax = ax[1])\n",
    "\n",
    "# Set Titles\n",
    "ax[0].set_title('Unhealty Restaurant Ratings x Obesity', weight = 'bold', size = 15, loc = 'center')\n",
    "ax[1].set_title('Healty Restaurant Ratings x Obesity', weight = 'bold', size = 15, loc = 'center')\n",
    "\n",
    "# Set x-axis label\n",
    "ax[0].set_xlabel(\"Obesity Percentages\", labelpad=10, weight='bold', size=12)\n",
    "ax[1].set_xlabel(\"Obesity Percentages\", labelpad=10, weight='bold', size=12)\n",
    "\n",
    "# Set y-axis label\n",
    "ax[0].set_ylabel(\"Average Ratings\", labelpad=10, weight='bold', size=12)\n",
    "\n",
    "# Save Figures\n",
    "figure_path = os.path.join('images','US_Obesity_x_Rating')\n",
    "plt.savefig(figure_path)\n",
    "\n",
    "plt.show()"
   ]
  },
  {
   "cell_type": "markdown",
   "metadata": {},
   "source": [
    "## State Ranking x Restaurant Ratings"
   ]
  },
  {
   "cell_type": "code",
   "execution_count": 11,
   "metadata": {},
   "outputs": [
    {
     "data": {
      "text/html": [
       "<div>\n",
       "<style scoped>\n",
       "    .dataframe tbody tr th:only-of-type {\n",
       "        vertical-align: middle;\n",
       "    }\n",
       "\n",
       "    .dataframe tbody tr th {\n",
       "        vertical-align: top;\n",
       "    }\n",
       "\n",
       "    .dataframe thead th {\n",
       "        text-align: right;\n",
       "    }\n",
       "</style>\n",
       "<table border=\"1\" class=\"dataframe\">\n",
       "  <thead>\n",
       "    <tr style=\"text-align: right;\">\n",
       "      <th></th>\n",
       "      <th>Restaurant State</th>\n",
       "      <th>Restaurant Name</th>\n",
       "      <th>Restaurant Rating</th>\n",
       "      <th>Restaurant Review</th>\n",
       "    </tr>\n",
       "  </thead>\n",
       "  <tbody>\n",
       "    <tr>\n",
       "      <th>0</th>\n",
       "      <td>AL</td>\n",
       "      <td>Chiptole</td>\n",
       "      <td>3.0</td>\n",
       "      <td>206</td>\n",
       "    </tr>\n",
       "    <tr>\n",
       "      <th>1</th>\n",
       "      <td>AL</td>\n",
       "      <td>Subway</td>\n",
       "      <td>4.0</td>\n",
       "      <td>4</td>\n",
       "    </tr>\n",
       "    <tr>\n",
       "      <th>2</th>\n",
       "      <td>AL</td>\n",
       "      <td>Subway</td>\n",
       "      <td>1.0</td>\n",
       "      <td>2</td>\n",
       "    </tr>\n",
       "    <tr>\n",
       "      <th>3</th>\n",
       "      <td>AL</td>\n",
       "      <td>Subway</td>\n",
       "      <td>2.5</td>\n",
       "      <td>5</td>\n",
       "    </tr>\n",
       "    <tr>\n",
       "      <th>4</th>\n",
       "      <td>AL</td>\n",
       "      <td>Subway</td>\n",
       "      <td>4.0</td>\n",
       "      <td>5</td>\n",
       "    </tr>\n",
       "  </tbody>\n",
       "</table>\n",
       "</div>"
      ],
      "text/plain": [
       "  Restaurant State Restaurant Name  Restaurant Rating  Restaurant Review\n",
       "0               AL        Chiptole                3.0                206\n",
       "1               AL          Subway                4.0                  4\n",
       "2               AL          Subway                1.0                  2\n",
       "3               AL          Subway                2.5                  5\n",
       "4               AL          Subway                4.0                  5"
      ]
     },
     "execution_count": 11,
     "metadata": {},
     "output_type": "execute_result"
    }
   ],
   "source": [
    "# Read in TOP5HEALTHY_restaurants csv\n",
    "input_file = os.path.join('data','TOP5HEALTHY_restaurants.csv')\n",
    "TOP5HEALTHY_restaurants = pd.read_csv(input_file)\n",
    "\n",
    "# Display the Data\n",
    "TOP5HEALTHY_restaurants.head()"
   ]
  },
  {
   "cell_type": "code",
   "execution_count": 12,
   "metadata": {},
   "outputs": [
    {
     "data": {
      "text/html": [
       "<div>\n",
       "<style scoped>\n",
       "    .dataframe tbody tr th:only-of-type {\n",
       "        vertical-align: middle;\n",
       "    }\n",
       "\n",
       "    .dataframe tbody tr th {\n",
       "        vertical-align: top;\n",
       "    }\n",
       "\n",
       "    .dataframe thead th {\n",
       "        text-align: right;\n",
       "    }\n",
       "</style>\n",
       "<table border=\"1\" class=\"dataframe\">\n",
       "  <thead>\n",
       "    <tr style=\"text-align: right;\">\n",
       "      <th></th>\n",
       "      <th>Restaurant State</th>\n",
       "      <th>Restaurant Name</th>\n",
       "      <th>Restaurant Rating</th>\n",
       "      <th>Restaurant Review</th>\n",
       "    </tr>\n",
       "  </thead>\n",
       "  <tbody>\n",
       "    <tr>\n",
       "      <th>0</th>\n",
       "      <td>AL</td>\n",
       "      <td>McDonalds</td>\n",
       "      <td>1.5</td>\n",
       "      <td>8</td>\n",
       "    </tr>\n",
       "    <tr>\n",
       "      <th>1</th>\n",
       "      <td>AL</td>\n",
       "      <td>McDonalds</td>\n",
       "      <td>1.5</td>\n",
       "      <td>29</td>\n",
       "    </tr>\n",
       "    <tr>\n",
       "      <th>2</th>\n",
       "      <td>AL</td>\n",
       "      <td>McDonalds</td>\n",
       "      <td>1.5</td>\n",
       "      <td>31</td>\n",
       "    </tr>\n",
       "    <tr>\n",
       "      <th>3</th>\n",
       "      <td>AL</td>\n",
       "      <td>McDonalds</td>\n",
       "      <td>1.5</td>\n",
       "      <td>19</td>\n",
       "    </tr>\n",
       "    <tr>\n",
       "      <th>4</th>\n",
       "      <td>AL</td>\n",
       "      <td>McDonalds</td>\n",
       "      <td>1.5</td>\n",
       "      <td>18</td>\n",
       "    </tr>\n",
       "  </tbody>\n",
       "</table>\n",
       "</div>"
      ],
      "text/plain": [
       "  Restaurant State Restaurant Name  Restaurant Rating  Restaurant Review\n",
       "0               AL       McDonalds                1.5                  8\n",
       "1               AL       McDonalds                1.5                 29\n",
       "2               AL       McDonalds                1.5                 31\n",
       "3               AL       McDonalds                1.5                 19\n",
       "4               AL       McDonalds                1.5                 18"
      ]
     },
     "execution_count": 12,
     "metadata": {},
     "output_type": "execute_result"
    }
   ],
   "source": [
    "# Read in TOP5UNHEALTHY_restaurants csv\n",
    "input_file = os.path.join('data','TOP5UNHEALTHY_restaurants.csv')\n",
    "TOP5UNHEALTHY_restaurants = pd.read_csv(input_file)\n",
    "\n",
    "# Display the Data\n",
    "TOP5UNHEALTHY_restaurants.head()"
   ]
  },
  {
   "cell_type": "code",
   "execution_count": 13,
   "metadata": {},
   "outputs": [
    {
     "data": {
      "text/html": [
       "<div>\n",
       "<style scoped>\n",
       "    .dataframe tbody tr th:only-of-type {\n",
       "        vertical-align: middle;\n",
       "    }\n",
       "\n",
       "    .dataframe tbody tr th {\n",
       "        vertical-align: top;\n",
       "    }\n",
       "\n",
       "    .dataframe thead th {\n",
       "        text-align: right;\n",
       "    }\n",
       "</style>\n",
       "<table border=\"1\" class=\"dataframe\">\n",
       "  <thead>\n",
       "    <tr style=\"text-align: right;\">\n",
       "      <th></th>\n",
       "      <th>Restaurant State</th>\n",
       "      <th>Restaurant Name</th>\n",
       "      <th>Restaurant Rating</th>\n",
       "      <th>Restaurant Review</th>\n",
       "    </tr>\n",
       "  </thead>\n",
       "  <tbody>\n",
       "    <tr>\n",
       "      <th>0</th>\n",
       "      <td>CO</td>\n",
       "      <td>Chiptole</td>\n",
       "      <td>3.5</td>\n",
       "      <td>84</td>\n",
       "    </tr>\n",
       "    <tr>\n",
       "      <th>1</th>\n",
       "      <td>CO</td>\n",
       "      <td>Chiptole</td>\n",
       "      <td>3.0</td>\n",
       "      <td>44</td>\n",
       "    </tr>\n",
       "    <tr>\n",
       "      <th>2</th>\n",
       "      <td>CO</td>\n",
       "      <td>Chiptole</td>\n",
       "      <td>3.5</td>\n",
       "      <td>25</td>\n",
       "    </tr>\n",
       "    <tr>\n",
       "      <th>3</th>\n",
       "      <td>CO</td>\n",
       "      <td>Chiptole</td>\n",
       "      <td>3.0</td>\n",
       "      <td>33</td>\n",
       "    </tr>\n",
       "    <tr>\n",
       "      <th>4</th>\n",
       "      <td>CO</td>\n",
       "      <td>Chiptole</td>\n",
       "      <td>3.5</td>\n",
       "      <td>39</td>\n",
       "    </tr>\n",
       "  </tbody>\n",
       "</table>\n",
       "</div>"
      ],
      "text/plain": [
       "  Restaurant State Restaurant Name  Restaurant Rating  Restaurant Review\n",
       "0               CO        Chiptole                3.5                 84\n",
       "1               CO        Chiptole                3.0                 44\n",
       "2               CO        Chiptole                3.5                 25\n",
       "3               CO        Chiptole                3.0                 33\n",
       "4               CO        Chiptole                3.5                 39"
      ]
     },
     "execution_count": 13,
     "metadata": {},
     "output_type": "execute_result"
    }
   ],
   "source": [
    "# Read in BOTTOM5HEALTHY_restaurants csv\n",
    "input_file = os.path.join('data','BOTTOM5HEALTHY_restaurants.csv')\n",
    "BOTTOM5HEALTHY_restaurants = pd.read_csv(input_file)\n",
    "\n",
    "# Display the Data\n",
    "BOTTOM5HEALTHY_restaurants.head()"
   ]
  },
  {
   "cell_type": "code",
   "execution_count": 14,
   "metadata": {},
   "outputs": [
    {
     "data": {
      "text/html": [
       "<div>\n",
       "<style scoped>\n",
       "    .dataframe tbody tr th:only-of-type {\n",
       "        vertical-align: middle;\n",
       "    }\n",
       "\n",
       "    .dataframe tbody tr th {\n",
       "        vertical-align: top;\n",
       "    }\n",
       "\n",
       "    .dataframe thead th {\n",
       "        text-align: right;\n",
       "    }\n",
       "</style>\n",
       "<table border=\"1\" class=\"dataframe\">\n",
       "  <thead>\n",
       "    <tr style=\"text-align: right;\">\n",
       "      <th></th>\n",
       "      <th>Restaurant State</th>\n",
       "      <th>Restaurant Name</th>\n",
       "      <th>Restaurant Rating</th>\n",
       "      <th>Restaurant Review</th>\n",
       "    </tr>\n",
       "  </thead>\n",
       "  <tbody>\n",
       "    <tr>\n",
       "      <th>0</th>\n",
       "      <td>CO</td>\n",
       "      <td>McDonalds</td>\n",
       "      <td>2.0</td>\n",
       "      <td>57</td>\n",
       "    </tr>\n",
       "    <tr>\n",
       "      <th>1</th>\n",
       "      <td>CO</td>\n",
       "      <td>McDonalds</td>\n",
       "      <td>1.5</td>\n",
       "      <td>44</td>\n",
       "    </tr>\n",
       "    <tr>\n",
       "      <th>2</th>\n",
       "      <td>CO</td>\n",
       "      <td>McDonalds</td>\n",
       "      <td>1.5</td>\n",
       "      <td>41</td>\n",
       "    </tr>\n",
       "    <tr>\n",
       "      <th>3</th>\n",
       "      <td>CO</td>\n",
       "      <td>McDonalds</td>\n",
       "      <td>2.0</td>\n",
       "      <td>47</td>\n",
       "    </tr>\n",
       "    <tr>\n",
       "      <th>4</th>\n",
       "      <td>CO</td>\n",
       "      <td>McDonalds</td>\n",
       "      <td>2.5</td>\n",
       "      <td>5</td>\n",
       "    </tr>\n",
       "  </tbody>\n",
       "</table>\n",
       "</div>"
      ],
      "text/plain": [
       "  Restaurant State Restaurant Name  Restaurant Rating  Restaurant Review\n",
       "0               CO       McDonalds                2.0                 57\n",
       "1               CO       McDonalds                1.5                 44\n",
       "2               CO       McDonalds                1.5                 41\n",
       "3               CO       McDonalds                2.0                 47\n",
       "4               CO       McDonalds                2.5                  5"
      ]
     },
     "execution_count": 14,
     "metadata": {},
     "output_type": "execute_result"
    }
   ],
   "source": [
    "# Read in BOTTOM5UNHEALTHY_restaurants csv\n",
    "input_file = os.path.join('data','BOTTOM5UNHEALTHY_restaurants.csv')\n",
    "BOTTOM5UNHEALTHY_restaurants = pd.read_csv(input_file)\n",
    "\n",
    "# Display the Data\n",
    "BOTTOM5UNHEALTHY_restaurants.head()"
   ]
  },
  {
   "cell_type": "markdown",
   "metadata": {},
   "source": [
    "### Hypothesis: In the Top5 obese states, do unhealthy restaurants have greater ratings than healthy restaurants?\n",
    "\n",
    "### Null hypothesis: Unhealthy and healthy restaurants in Top5 obese states have the same ratings"
   ]
  },
  {
   "cell_type": "code",
   "execution_count": 15,
   "metadata": {},
   "outputs": [
    {
     "data": {
      "image/png": "[encoded data removed]",
      "text/plain": [
       "<Figure size 1152x360 with 2 Axes>"
      ]
     },
     "metadata": {
      "needs_background": "light"
     },
     "output_type": "display_data"
    }
   ],
   "source": [
    "# Creat subplots\n",
    "fig, ax = plt.subplots(1,2, figsize= (16,5), sharey = True)\n",
    "\n",
    "# Create a boxplot to compare means for Unhealthy Restaurants in Top5 States\n",
    "TOP5UNHEALTHY_restaurants.boxplot(\"Restaurant Rating\", by=\"Restaurant State\", ax = ax[0])\n",
    "TOP5HEALTHY_restaurants.boxplot(\"Restaurant Rating\", by=\"Restaurant State\", ax = ax[1])\n",
    "plt.suptitle(\"\")\n",
    "\n",
    "# Set Titles\n",
    "ax[0].set_title('Unhealthy Restaurants in Top5 Obese States', weight = 'bold', size = 15, loc = 'center')\n",
    "ax[1].set_title('Healthy Restaurants in Top5 Obese States', weight = 'bold', size = 15, loc = 'center')\n",
    "\n",
    "# Set x-axis label\n",
    "ax[0].set_xlabel(\"Restaurant States\", labelpad=10, weight='bold', size=12)\n",
    "ax[1].set_xlabel(\"Restaurant States\", labelpad=10, weight='bold', size=12)\n",
    "\n",
    "# Set y-axis label\n",
    "ax[0].set_ylabel(\"Average Ratings\", labelpad=10, weight='bold', size=12)\n",
    "\n",
    "# Save Figures\n",
    "figure_path = os.path.join('images','Top5_Healthy_x_Unhealthy_Boxplot')\n",
    "plt.savefig(figure_path)\n",
    "\n",
    "plt.show()"
   ]
  },
  {
   "cell_type": "code",
   "execution_count": 16,
   "metadata": {},
   "outputs": [
    {
     "name": "stdout",
     "output_type": "stream",
     "text": [
      "Statistic value: 8.5263\n",
      "P-value value: 0.0000000000000002\n"
     ]
    }
   ],
   "source": [
    "# Test if the ratings are different\n",
    "results =stats.ttest_ind(TOP5HEALTHY_restaurants[\"Restaurant Rating\"], \n",
    "                         TOP5UNHEALTHY_restaurants[\"Restaurant Rating\"], equal_var=False)\n",
    "print(f\"Statistic value: {results.statistic:.4f}\")\n",
    "print(f\"P-value value: {results.pvalue:.16f}\")"
   ]
  },
  {
   "cell_type": "markdown",
   "metadata": {},
   "source": [
    "### Based on the pvalue of the Ttest, we reject the null hypothesis, so Healthy and Unhealthy restaurants in Top5 Obese States have different rating averages.\n",
    "### Based on the statistic value of the Ttest, we notice that Healthy restaurants have greater Ratings than Unhealthy restaurants in Top5 Obese States.\n",
    "# ----------------------------------------------------------------------------------------"
   ]
  },
  {
   "cell_type": "markdown",
   "metadata": {},
   "source": [
    "### Hypothesis: In the Bottom5 obese states, do healthy restaurants have greater ratings than unhealthy restaurants?\n",
    "\n",
    "### Null hypothesis: Unhealthy and healthy restaurants in Bottom5 obese states have the same ratings"
   ]
  },
  {
   "cell_type": "code",
   "execution_count": 17,
   "metadata": {},
   "outputs": [
    {
     "data": {
      "image/png": "[encoded data removed]",
      "text/plain": [
       "<Figure size 1152x360 with 2 Axes>"
      ]
     },
     "metadata": {
      "needs_background": "light"
     },
     "output_type": "display_data"
    }
   ],
   "source": [
    "# Creat subplots\n",
    "fig, ax = plt.subplots(1,2, figsize= (16,5), sharey = True)\n",
    "\n",
    "# Create a boxplot to compare means for Unhealthy Restaurants in Bottom5 States\n",
    "BOTTOM5UNHEALTHY_restaurants.boxplot(\"Restaurant Rating\", by=\"Restaurant State\", ax = ax[0])\n",
    "BOTTOM5HEALTHY_restaurants.boxplot(\"Restaurant Rating\", by=\"Restaurant State\", ax = ax[1])\n",
    "plt.suptitle(\"\")\n",
    "\n",
    "# Set Titles\n",
    "ax[0].set_title('Unhealthy Restaurants in Bottom5 Obese States', weight = 'bold', size = 14, loc = 'center')\n",
    "ax[1].set_title('Healthy Restaurants in Bottom5 Obese States', weight = 'bold', size = 14, loc = 'center')\n",
    "\n",
    "# Set x-axis label\n",
    "ax[0].set_xlabel(\"Restaurant States\", labelpad=10, weight='bold', size=12)\n",
    "ax[1].set_xlabel(\"Restaurant States\", labelpad=10, weight='bold', size=12)\n",
    "\n",
    "# Set y-axis label\n",
    "ax[0].set_ylabel(\"Average Ratings\", labelpad=10, weight='bold', size=12)\n",
    "\n",
    "# Save Figures\n",
    "figure_path = os.path.join('images','Bottom5_Healthy_x_Unhealthy_Boxplot')\n",
    "plt.savefig(figure_path)\n",
    "\n",
    "plt.show()"
   ]
  },
  {
   "cell_type": "code",
   "execution_count": 18,
   "metadata": {},
   "outputs": [
    {
     "name": "stdout",
     "output_type": "stream",
     "text": [
      "Statistic value: 12.7561\n",
      "P-value value: 0.0000000000000000\n"
     ]
    }
   ],
   "source": [
    "# Test if the ratings are different\n",
    "results = stats.ttest_ind(BOTTOM5HEALTHY_restaurants[\"Restaurant Rating\"], \n",
    "                          BOTTOM5UNHEALTHY_restaurants[\"Restaurant Rating\"], equal_var=False)\n",
    "print(f\"Statistic value: {results.statistic:.4f}\")\n",
    "print(f\"P-value value: {results.pvalue:.16f}\")"
   ]
  },
  {
   "cell_type": "markdown",
   "metadata": {},
   "source": [
    "### Based on the pvalue of the Ttest, we reject the null hypothesis, so Healthy and Unhealthy restaurants in Bottom5 Obese States have different rating averages.\n",
    "### Based on the statistic value of the Ttest, we notice that Healthy restaurants have greater Ratings than Unhealthy restaurants in Bottom5 Obese States.\n",
    "# ----------------------------------------------------------------------------------------"
   ]
  },
  {
   "cell_type": "markdown",
   "metadata": {},
   "source": [
    "### Hypothesis: For unhealthy restaurants, the Top5 obese states have greater ratings than the Bottom5 obese states?\n",
    "\n",
    "### Null hypothesis: Unhealthy restaurants in Top5 and Bottom5 obese states have the same ratings"
   ]
  },
  {
   "cell_type": "code",
   "execution_count": 19,
   "metadata": {},
   "outputs": [
    {
     "data": {
      "image/png": "[encoded data removed]",
      "text/plain": [
       "<Figure size 1152x360 with 2 Axes>"
      ]
     },
     "metadata": {
      "needs_background": "light"
     },
     "output_type": "display_data"
    }
   ],
   "source": [
    "# Creat subplots\n",
    "fig, ax = plt.subplots(1,2, figsize= (16,5), sharey = True)\n",
    "\n",
    "# Create a boxplot to compare means for Unhealthy Restaurants in Top5 and Bottom5 States\n",
    "TOP5UNHEALTHY_restaurants.boxplot(\"Restaurant Rating\", by=\"Restaurant State\", ax = ax[0])\n",
    "BOTTOM5UNHEALTHY_restaurants.boxplot(\"Restaurant Rating\", by=\"Restaurant State\", ax = ax[1])\n",
    "plt.suptitle(\"\")\n",
    "\n",
    "# Set Titles\n",
    "ax[0].set_title('Unhealthy Restaurants in Top5 Obese States', weight = 'bold', size = 14, loc = 'center')\n",
    "ax[1].set_title('Unhealthy Restaurants in Bottom5 Obese States', weight = 'bold', size = 14, loc = 'center')\n",
    "\n",
    "# Set x-axis label\n",
    "ax[0].set_xlabel(\"Restaurant States\", labelpad=10, weight='bold', size=12)\n",
    "ax[1].set_xlabel(\"Restaurant States\", labelpad=10, weight='bold', size=12)\n",
    "\n",
    "# Set y-axis label\n",
    "ax[0].set_ylabel(\"Average Ratings\", labelpad=10, weight='bold', size=12)\n",
    "\n",
    "# Save Figures\n",
    "figure_path = os.path.join('images','Unhealthy_Top5_x_Bottom5_Boxplot')\n",
    "plt.savefig(figure_path)\n",
    "\n",
    "plt.show()"
   ]
  },
  {
   "cell_type": "code",
   "execution_count": 20,
   "metadata": {},
   "outputs": [
    {
     "name": "stdout",
     "output_type": "stream",
     "text": [
      "Statistic value: 4.7538\n",
      "P-value value: 0.0000024054616908\n"
     ]
    }
   ],
   "source": [
    "# Test if the ratings are different\n",
    "results = stats.ttest_ind(TOP5UNHEALTHY_restaurants[\"Restaurant Rating\"], \n",
    "                          BOTTOM5UNHEALTHY_restaurants[\"Restaurant Rating\"], equal_var=False)\n",
    "print(f\"Statistic value: {results.statistic:.4f}\")\n",
    "print(f\"P-value value: {results.pvalue:.16f}\")"
   ]
  },
  {
   "cell_type": "markdown",
   "metadata": {},
   "source": [
    "### Based on the pvalue of the Ttest, we reject the null hypothesis, so Unhealthy restaurants in Top5 and Bottom5 Obese States have different rating averages.\n",
    "### Based on the statistic value of the Ttest, we notice that unhealthy restaurants have greater Ratings in Top5 obese states than in Bottom5 Obese States.\n",
    "# ----------------------------------------------------------------------------------------"
   ]
  },
  {
   "cell_type": "markdown",
   "metadata": {},
   "source": [
    "### Hypothesis: For healthy restaurants, the Bottom5 obese states have greater ratings than the Top5 obese states.\n",
    "\n",
    "### Null hypothesis: Healthy restaurants in Top5 and Bottom5 obese states have the same ratings"
   ]
  },
  {
   "cell_type": "code",
   "execution_count": 21,
   "metadata": {},
   "outputs": [
    {
     "data": {
      "image/png": "[encoded data removed]",
      "text/plain": [
       "<Figure size 1152x360 with 2 Axes>"
      ]
     },
     "metadata": {
      "needs_background": "light"
     },
     "output_type": "display_data"
    }
   ],
   "source": [
    "# Creat subplots\n",
    "fig, ax = plt.subplots(1,2, figsize= (16,5), sharey = True)\n",
    "\n",
    "# Create a boxplot to compare means for Healthy Restaurants in Top5 and Bottom5 States\n",
    "TOP5HEALTHY_restaurants.boxplot(\"Restaurant Rating\", by=\"Restaurant State\", ax = ax[0])\n",
    "BOTTOM5HEALTHY_restaurants.boxplot(\"Restaurant Rating\", by=\"Restaurant State\", ax = ax[1])\n",
    "plt.suptitle(\"\")\n",
    "\n",
    "# Set Titles\n",
    "ax[0].set_title('Healthy Restaurants in Top5 Obese States', weight = 'bold', size = 14, loc = 'center')\n",
    "ax[1].set_title('Healthy Restaurants in Bottom5 Obese States', weight = 'bold', size = 14, loc = 'center')\n",
    "\n",
    "# Set x-axis label\n",
    "ax[0].set_xlabel(\"Restaurant States\", labelpad=10, weight='bold', size=12)\n",
    "ax[1].set_xlabel(\"Restaurant States\", labelpad=10, weight='bold', size=12)\n",
    "\n",
    "# Set y-axis label\n",
    "ax[0].set_ylabel(\"Average Ratings\", labelpad=10, weight='bold', size=12)\n",
    "\n",
    "# Save Figures\n",
    "figure_path = os.path.join('images','Healthy_Top5_x_Bottom5_Boxplot')\n",
    "plt.savefig(figure_path)\n",
    "\n",
    "plt.show()"
   ]
  },
  {
   "cell_type": "code",
   "execution_count": 22,
   "metadata": {},
   "outputs": [
    {
     "name": "stdout",
     "output_type": "stream",
     "text": [
      "Statistic value: 3.8043\n",
      "P-value value: 0.0001649588692480\n"
     ]
    }
   ],
   "source": [
    "# Test if the ratings are different\n",
    "results = stats.ttest_ind(TOP5HEALTHY_restaurants[\"Restaurant Rating\"], \n",
    "                          BOTTOM5HEALTHY_restaurants[\"Restaurant Rating\"], equal_var=False)\n",
    "print(f\"Statistic value: {results.statistic:.4f}\")\n",
    "print(f\"P-value value: {results.pvalue:.16f}\")"
   ]
  },
  {
   "cell_type": "markdown",
   "metadata": {},
   "source": [
    "### Based on the pvalue of the Ttest, we reject the null hypothesis, so Healthy restaurants in Top5 and Bottom5 Obese States have different rating averages.\n",
    "### Based on the statistic value of the Ttest, we notice that healthy restaurants have greater Ratings in Top5 obese states than in Bottom5 Obese States."
   ]
  },
  {
   "cell_type": "code",
   "execution_count": null,
   "metadata": {},
   "outputs": [],
   "source": []
  }
 ],
 "metadata": {
  "kernelspec": {
   "display_name": "PythonData",
   "language": "python",
   "name": "pythondata"
  },
  "language_info": {
   "codemirror_mode": {
    "name": "ipython",
    "version": 3
   },
   "file_extension": ".py",
   "mimetype": "text/x-python",
   "name": "python",
   "nbconvert_exporter": "python",
   "pygments_lexer": "ipython3",
   "version": "3.7.1"
  }
 },
 "nbformat": 4,
 "nbformat_minor": 2
}
